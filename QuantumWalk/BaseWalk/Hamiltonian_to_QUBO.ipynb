{
  "nbformat": 4,
  "nbformat_minor": 0,
  "metadata": {
    "colab": {
      "name": "Hamiltonian to QUBO.ipynb",
      "provenance": []
    },
    "kernelspec": {
      "name": "python3",
      "display_name": "Python 3"
    },
    "language_info": {
      "name": "python"
    }
  },
  "cells": [
    {
      "cell_type": "markdown",
      "source": [
        "#Decomposing Hamiltonian and Creating QUBO Formulation"
      ],
      "metadata": {
        "id": "iTIo1AoFAdvt"
      }
    },
    {
      "cell_type": "markdown",
      "source": [
        "##Import Necessary Packages"
      ],
      "metadata": {
        "id": "VwLS8Qd7ADOR"
      }
    },
    {
      "cell_type": "code",
      "execution_count": null,
      "metadata": {
        "id": "X3OChxs2ACly"
      },
      "outputs": [],
      "source": [
        "# The code in [Decomposition Functions] and [Create Hamiltonian and Decompose] were largely contributions by Yujun Shen\n",
        "import numpy as np\n",
        "from numpy import linalg as LA\n",
        "from numpy import kron    # for matrix math\n",
        "import csv\n",
        "import matplotlib.pyplot as plt\n",
        "import time\n",
        "import math\n",
        "\n",
        "\n",
        "!pip install qiskit[optimization]\n",
        "from qiskit_optimization.translators import from_ising\n",
        "from qiskit_optimization.converters import QuadraticProgramToQubo\n",
        "from qiskit.opflow.primitive_ops import PauliSumOp\n",
        "\n",
        "\n",
        "!pip install qiskit-aqua\n",
        "from qiskit.optimization.applications.ising import stable_set\n",
        "from qiskit.optimization.problems import QuadraticProgram\n",
        "\n"
      ]
    },
    {
      "cell_type": "markdown",
      "source": [
        "##Helper for printing matrices nicely"
      ],
      "metadata": {
        "id": "eEQeNWJ3Cnud"
      }
    },
    {
      "cell_type": "code",
      "source": [
        "def p_mat(mat):\n",
        "\timport numpy as np\n",
        "\tgrid = np.matrix(mat)\n",
        "\tprint(grid)"
      ],
      "metadata": {
        "id": "TI8fWDieCnRg"
      },
      "execution_count": null,
      "outputs": []
    },
    {
      "cell_type": "markdown",
      "source": [
        "##Decomposition functions"
      ],
      "metadata": {
        "id": "SyUmR9xOAyzU"
      }
    },
    {
      "cell_type": "code",
      "source": [
        "# helper functions defined from the two qubit decomposition, from michaelgoerz.net source linked\n",
        "def HS(M1, M2):\n",
        "    \"\"\"Hilbert-Schmidt-Product of two matrices M1, M2\"\"\"\n",
        "    return (np.dot(M1.conjugate().transpose(), M2)).trace()\n",
        "\n",
        "def c2s(c):\n",
        "    \"\"\"Return a string representation of a complex number c\"\"\"\n",
        "    if c == 0.0:\n",
        "        return \"0\"\n",
        "    if c.imag == 0:\n",
        "        return \"%g\" % c.real\n",
        "    elif c.real == 0:\n",
        "        return \"%gj\" % c.imag\n",
        "    else:\n",
        "        return \"%g+%gj\" % (c.real, c.imag)\n",
        "\n",
        "def decompose(H):\n",
        "    \"\"\"\n",
        "    Decompose Hermitian matrix H into linear combination of Pauli matrices\n",
        "    Works for both 4x4 (2 qubits) and 16x16 (4 qubits) cases\n",
        "    \"\"\"\n",
        "    decomp_dict = {}    # to store results\n",
        "    sx = np.array([[0, 1],  [ 1, 0]], dtype=np.complex128)    # define individual Pauli operator\n",
        "    sy = np.array([[0, -1j],[1j, 0]], dtype=np.complex128)\n",
        "    sz = np.array([[1, 0],  [0, -1]], dtype=np.complex128)\n",
        "    id = np.array([[1, 0],  [ 0, 1]], dtype=np.complex128)\n",
        "    S = [id, sx, sy, sz]\n",
        "    labels = ['I', 'sigma_x', 'sigma_y', 'sigma_z']\n",
        "    print(\"Tensor product decomposition of Hamiltonian:\")\n",
        "    \n",
        "    if len(H) == 4: # 4x4 matrix for 2 qubits\n",
        "        for i in range(4):\n",
        "            for j in range(4):\n",
        "                label = labels[i]+',' + labels[j]\n",
        "                a_ij = 0.25 * HS(kron(S[i], S[j]), H)\n",
        "                if abs(a_ij) >= 1E-10:\n",
        "                    print(\"%s\\t*\\t( %s )\" % (c2s(a_ij), label))   # save as string\n",
        "                    decomp_dict[label] = float(a_ij)\n",
        "                    \n",
        "    elif len(H) == 16: # 16x16 matrix for 4 qubits\n",
        "        for i in range(4):\n",
        "            for j in range(4):\n",
        "                for k in range(4):\n",
        "                    for l in range(4):\n",
        "                        label = labels[i]+',' + labels[j]+','+ labels[k] +',' + labels[l] \n",
        "                        a_ij = 1/16 * HS(kron(kron(S[i], S[j]),kron(S[k], S[l])), H)\n",
        "                        if abs(a_ij) >= 1E-10:\n",
        "                            print(\"%s\\t*\\t( %s )\" % (c2s(a_ij), label))\n",
        "                            decomp_dict[label] = float(a_ij)\n",
        "    print(\"~~~ End ~~~\")\n",
        "    return decomp_dict      "
      ],
      "metadata": {
        "id": "LTKAgvHXA3aZ"
      },
      "execution_count": null,
      "outputs": []
    },
    {
      "cell_type": "markdown",
      "source": [
        "##Create Hamiltonian and Decompose"
      ],
      "metadata": {
        "id": "iz20JutlBeHI"
      }
    },
    {
      "cell_type": "code",
      "source": [
        "#paramaters given by Gunnar\n",
        "sigma = math.sqrt(1/3)  #sigma squared is diffusion\n",
        "delta = 1 #drift\n",
        "m = 4 #number of qubits\n",
        "\n",
        "#Hamiltonian mxm grid\n",
        "h = [[0]*m for _ in range(m)]\n",
        "\n",
        "for i in range(m):\n",
        "    h[i][i] = (delta*(i+1)/m)\n",
        "    if i+1 < m:\n",
        "        h[i][i+1] = sigma**2\n",
        "    if i-1 >= 0: \n",
        "        h[i][i-1] = sigma**2\n",
        "\n",
        "p_mat(h)\n",
        "\n",
        "Hamiltonian = h\n",
        "min_eigenvalue = np.real(min(LA.eigvals(Hamiltonian)))\n",
        "print(\"Check if Hermitian (all real eigenvals):\", LA.eigvals(Hamiltonian))\n",
        "print(\"The expected minimum eigensvalue is\", round(min_eigenvalue,6), \"\\n\")\n",
        "Hamiltonian_dict = decompose(Hamiltonian)"
      ],
      "metadata": {
        "colab": {
          "base_uri": "https://localhost:8080/"
        },
        "id": "3AgghwD1A_Z2",
        "outputId": "d551c4df-2e28-4f92-a916-3ffd23871f44"
      },
      "execution_count": null,
      "outputs": [
        {
          "output_type": "stream",
          "name": "stdout",
          "text": [
            "[[0.25       0.33333333 0.         0.        ]\n",
            " [0.33333333 0.5        0.33333333 0.        ]\n",
            " [0.         0.33333333 0.75       0.33333333]\n",
            " [0.         0.         0.33333333 1.        ]]\n",
            "Check if Hermitian (all real eigenvals): [-0.04224839  0.41437493  0.83562507  1.29224839]\n",
            "The expected minimum eigensvalue is -0.042248 \n",
            "\n",
            "Tensor product decomposition of Hamiltonian:\n",
            "0.625\t*\t( I,I )\n",
            "0.333333\t*\t( I,sigma_x )\n",
            "-0.125\t*\t( I,sigma_z )\n",
            "0.166667\t*\t( sigma_x,sigma_x )\n",
            "0.166667\t*\t( sigma_y,sigma_y )\n",
            "-0.25\t*\t( sigma_z,I )\n",
            "~~~ End ~~~\n"
          ]
        },
        {
          "output_type": "stream",
          "name": "stderr",
          "text": [
            "/usr/local/lib/python3.7/dist-packages/ipykernel_launcher.py:38: ComplexWarning: Casting complex values to real discards the imaginary part\n"
          ]
        }
      ]
    },
    {
      "cell_type": "markdown",
      "source": [
        "#Convert to Qubo"
      ],
      "metadata": {
        "id": "gJ7ebNMQDb-Z"
      }
    },
    {
      "cell_type": "code",
      "source": [
        "#@title Using StackExchange [26146](https://quantumcomputing.stackexchange.com/questions/26146/convert-hamiltonian-to-ising-formulation-or-qubo)\n",
        "# !pip install qiskit\n",
        "# !pip install qiskit_optimization\n",
        "# from qiskit_optimization.translators import from_ising\n",
        "# from qiskit_optimization.converters import QuadraticProgramToQubo\n",
        "# from qiskit.opflow.primitive_ops import PauliSumOp\n",
        "\n",
        "# op   = PauliSumOp.from_list([(\"ZZ\", 1), (\"IZ\", 2), (\"Z\", 3)]) # example operator\n",
        "# # op = PauliSumOp.from_list([(\"II\",0.625), (\"IX\",0.333333), (\"IZ\", -0.125), (\"XX\", 0.166667), (\"YY\", 0.166667), (\"ZI\", -0.25)])\n",
        "# print(op)\n",
        "# qp   = from_ising(op)\n",
        "# conv = QuadraticProgramToQubo()\n",
        "# qubo = conv.convert(qp)\n",
        "# qubo"
      ],
      "metadata": {
        "cellView": "form",
        "id": "nm7J6OLPD4lr"
      },
      "execution_count": null,
      "outputs": []
    },
    {
      "cell_type": "code",
      "source": [
        "#@title Using Stack Exchange [16069](https://quantumcomputing.stackexchange.com/questions/16069/qiskit-taking-a-qubo-matrix-into-qubit-op?noredirect=1&lq=1)\n",
        "# !pip install qiskit-aqua\n",
        "# from qiskit.optimization.applications.ising import stable_set\n",
        "# from qiskit.optimization.problems import QuadraticProgram\n",
        "\n",
        "qubitOp, offset = stable_set.get_operator(np.array(h))\n",
        "\n",
        "\n",
        "print('Offset:', offset)\n",
        "print('Ising Hamiltonian:')\n",
        "print(qubitOp.print_details())\n",
        "\n",
        "# # mapping Ising Hamiltonian to Quadratic Program\n",
        "qp = QuadraticProgram()\n",
        "qp.from_ising(qubitOp, offset)\n",
        "qp\n"
      ],
      "metadata": {
        "colab": {
          "base_uri": "https://localhost:8080/"
        },
        "id": "hdOv0tpZK5zy",
        "outputId": "941b4b74-6775-494e-dd56-44e6ed2d9255"
      },
      "execution_count": null,
      "outputs": [
        {
          "output_type": "stream",
          "name": "stdout",
          "text": [
            "Offset: -0.5\n",
            "Ising Hamiltonian:\n",
            "IIZZ\t(0.5+0j)\n",
            "IZZI\t(0.5+0j)\n",
            "ZZII\t(0.5+0j)\n",
            "IIIZ\t(-0.5+0j)\n",
            "IIZI\t(-1+0j)\n",
            "IZII\t(-1+0j)\n",
            "ZIII\t(-0.5+0j)\n",
            "\n"
          ]
        },
        {
          "output_type": "execute_result",
          "data": {
            "text/plain": [
              "\\ This file has been generated by DOcplex\n",
              "\\ ENCODING=ISO-8859-1\n",
              "\\Problem name: CPLEX\n",
              "\n",
              "Minimize\n",
              " obj: [ 4 x_0*x_1 + 4 x_1*x_2 + 4 x_2*x_3 ]/2 -2\n",
              "Subject To\n",
              "\n",
              "Bounds\n",
              " 0 <= x_0 <= 1\n",
              " 0 <= x_1 <= 1\n",
              " 0 <= x_2 <= 1\n",
              " 0 <= x_3 <= 1\n",
              "\n",
              "Binaries\n",
              " x_0 x_1 x_2 x_3\n",
              "End"
            ]
          },
          "metadata": {},
          "execution_count": 6
        }
      ]
    }
  ]
}
